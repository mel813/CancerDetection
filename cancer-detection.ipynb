{
 "cells": [
  {
   "cell_type": "code",
   "execution_count": 1,
   "id": "d72f24d7",
   "metadata": {
    "_cell_guid": "b1076dfc-b9ad-4769-8c92-a6c4dae69d19",
    "_uuid": "8f2839f25d086af736a60e9eeb907d3b93b6e0e5",
    "execution": {
     "iopub.execute_input": "2025-07-24T14:06:39.937488Z",
     "iopub.status.busy": "2025-07-24T14:06:39.937136Z",
     "iopub.status.idle": "2025-07-24T14:06:39.942892Z",
     "shell.execute_reply": "2025-07-24T14:06:39.942078Z"
    },
    "papermill": {
     "duration": 0.013571,
     "end_time": "2025-07-24T14:06:39.944534",
     "exception": false,
     "start_time": "2025-07-24T14:06:39.930963",
     "status": "completed"
    },
    "tags": []
   },
   "outputs": [],
   "source": [
    "# This Python 3 environment comes with many helpful analytics libraries installed\n",
    "# It is defined by the kaggle/python Docker image: https://github.com/kaggle/docker-python\n",
    "# For example, here's several helpful packages to load\n",
    "\n",
    "# Input data files are available in the read-only \"../input/\" directory\n",
    "# For example, running this (by clicking run or pressing Shift+Enter) will list all files under the input directory\n",
    "\n",
    "#for dirname, _, filenames in os.walk('/kaggle/input'):\n",
    "#    for filename in filenames:\n",
    "#        print(os.path.join(dirname, filename))\n",
    "\n",
    "# You can write up to 20GB to the current directory (/kaggle/working/) that gets preserved as output when you create a version using \"Save & Run All\" \n",
    "# You can also write temporary files to /kaggle/temp/, but they won't be saved outside of the current session"
   ]
  },
  {
   "cell_type": "code",
   "execution_count": 2,
   "id": "73d92419",
   "metadata": {
    "execution": {
     "iopub.execute_input": "2025-07-24T14:06:39.954080Z",
     "iopub.status.busy": "2025-07-24T14:06:39.953779Z",
     "iopub.status.idle": "2025-07-24T14:07:02.143511Z",
     "shell.execute_reply": "2025-07-24T14:07:02.142445Z"
    },
    "papermill": {
     "duration": 22.196314,
     "end_time": "2025-07-24T14:07:02.145166",
     "exception": false,
     "start_time": "2025-07-24T14:06:39.948852",
     "status": "completed"
    },
    "tags": []
   },
   "outputs": [
    {
     "name": "stderr",
     "output_type": "stream",
     "text": [
      "2025-07-24 14:06:46.087654: E external/local_xla/xla/stream_executor/cuda/cuda_fft.cc:477] Unable to register cuFFT factory: Attempting to register factory for plugin cuFFT when one has already been registered\n",
      "WARNING: All log messages before absl::InitializeLog() is called are written to STDERR\n",
      "E0000 00:00:1753366006.338861      13 cuda_dnn.cc:8310] Unable to register cuDNN factory: Attempting to register factory for plugin cuDNN when one has already been registered\n",
      "E0000 00:00:1753366006.420470      13 cuda_blas.cc:1418] Unable to register cuBLAS factory: Attempting to register factory for plugin cuBLAS when one has already been registered\n"
     ]
    }
   ],
   "source": [
    "import seaborn as sns\n",
    "import pandas as pd\n",
    "import matplotlib.pyplot as plt\n",
    "from tensorflow.keras import layers, models, Input\n",
    "from sklearn.metrics import roc_curve, auc, confusion_matrix, ConfusionMatrixDisplay\n",
    "from tensorflow.keras.metrics import AUC\n",
    "from tensorflow.keras.callbacks import EarlyStopping\n",
    "import os\n",
    "import cv2\n",
    "import numpy as np\n",
    "from sklearn.model_selection import train_test_split\n",
    "from tensorflow.keras import layers, models\n",
    "from tensorflow.keras.optimizers import Adam\n",
    "import keras_tuner as kt\n",
    "from keras_tuner import RandomSearch\n",
    "import seaborn as sns\n",
    "from tensorflow.keras.models import load_model\n",
    "from tensorflow.keras.preprocessing.image import ImageDataGenerator"
   ]
  },
  {
   "cell_type": "markdown",
   "id": "334777f9",
   "metadata": {
    "papermill": {
     "duration": 0.003839,
     "end_time": "2025-07-24T14:07:02.153503",
     "exception": false,
     "start_time": "2025-07-24T14:07:02.149664",
     "status": "completed"
    },
    "tags": []
   },
   "source": [
    "### Data Set\n",
    "\n",
    "Read in the data set and describe the size and shape of the data. The goal is to detect the presence of metastatic cancer in small image patches taken from large scans. The label will map to either 0 or 1 as cancer or non-cancerous."
   ]
  },
  {
   "cell_type": "code",
   "execution_count": 3,
   "id": "5563dc8b",
   "metadata": {
    "execution": {
     "iopub.execute_input": "2025-07-24T14:07:02.163587Z",
     "iopub.status.busy": "2025-07-24T14:07:02.162847Z",
     "iopub.status.idle": "2025-07-24T14:07:02.738683Z",
     "shell.execute_reply": "2025-07-24T14:07:02.737333Z"
    },
    "papermill": {
     "duration": 0.583648,
     "end_time": "2025-07-24T14:07:02.741064",
     "exception": false,
     "start_time": "2025-07-24T14:07:02.157416",
     "status": "completed"
    },
    "tags": []
   },
   "outputs": [
    {
     "name": "stdout",
     "output_type": "stream",
     "text": [
      "(220025, 2)\n"
     ]
    }
   ],
   "source": [
    "data = pd.read_csv('/kaggle/input/histopathologic-cancer-detection/train_labels.csv')\n",
    "img_set = '/kaggle/input/histopathologic-cancer-detection/train/'\n",
    "\n",
    "print(data.shape)"
   ]
  },
  {
   "cell_type": "code",
   "execution_count": 4,
   "id": "2446fb44",
   "metadata": {
    "execution": {
     "iopub.execute_input": "2025-07-24T14:07:02.761830Z",
     "iopub.status.busy": "2025-07-24T14:07:02.761374Z",
     "iopub.status.idle": "2025-07-24T14:07:02.786310Z",
     "shell.execute_reply": "2025-07-24T14:07:02.785317Z"
    },
    "papermill": {
     "duration": 0.03739,
     "end_time": "2025-07-24T14:07:02.788064",
     "exception": false,
     "start_time": "2025-07-24T14:07:02.750674",
     "status": "completed"
    },
    "tags": []
   },
   "outputs": [
    {
     "data": {
      "text/html": [
       "<div>\n",
       "<style scoped>\n",
       "    .dataframe tbody tr th:only-of-type {\n",
       "        vertical-align: middle;\n",
       "    }\n",
       "\n",
       "    .dataframe tbody tr th {\n",
       "        vertical-align: top;\n",
       "    }\n",
       "\n",
       "    .dataframe thead th {\n",
       "        text-align: right;\n",
       "    }\n",
       "</style>\n",
       "<table border=\"1\" class=\"dataframe\">\n",
       "  <thead>\n",
       "    <tr style=\"text-align: right;\">\n",
       "      <th></th>\n",
       "      <th>id</th>\n",
       "      <th>label</th>\n",
       "    </tr>\n",
       "  </thead>\n",
       "  <tbody>\n",
       "    <tr>\n",
       "      <th>0</th>\n",
       "      <td>f38a6374c348f90b587e046aac6079959adf3835</td>\n",
       "      <td>0</td>\n",
       "    </tr>\n",
       "    <tr>\n",
       "      <th>1</th>\n",
       "      <td>c18f2d887b7ae4f6742ee445113fa1aef383ed77</td>\n",
       "      <td>1</td>\n",
       "    </tr>\n",
       "    <tr>\n",
       "      <th>2</th>\n",
       "      <td>755db6279dae599ebb4d39a9123cce439965282d</td>\n",
       "      <td>0</td>\n",
       "    </tr>\n",
       "    <tr>\n",
       "      <th>3</th>\n",
       "      <td>bc3f0c64fb968ff4a8bd33af6971ecae77c75e08</td>\n",
       "      <td>0</td>\n",
       "    </tr>\n",
       "    <tr>\n",
       "      <th>4</th>\n",
       "      <td>068aba587a4950175d04c680d38943fd488d6a9d</td>\n",
       "      <td>0</td>\n",
       "    </tr>\n",
       "  </tbody>\n",
       "</table>\n",
       "</div>"
      ],
      "text/plain": [
       "                                         id  label\n",
       "0  f38a6374c348f90b587e046aac6079959adf3835      0\n",
       "1  c18f2d887b7ae4f6742ee445113fa1aef383ed77      1\n",
       "2  755db6279dae599ebb4d39a9123cce439965282d      0\n",
       "3  bc3f0c64fb968ff4a8bd33af6971ecae77c75e08      0\n",
       "4  068aba587a4950175d04c680d38943fd488d6a9d      0"
      ]
     },
     "execution_count": 4,
     "metadata": {},
     "output_type": "execute_result"
    }
   ],
   "source": [
    "data.head()"
   ]
  },
  {
   "cell_type": "markdown",
   "id": "2de28881",
   "metadata": {
    "papermill": {
     "duration": 0.00392,
     "end_time": "2025-07-24T14:07:02.796567",
     "exception": false,
     "start_time": "2025-07-24T14:07:02.792647",
     "status": "completed"
    },
    "tags": []
   },
   "source": [
    "### Exploratory Data Analysis (EDA)\n",
    "\n",
    "Visualize and clean the dataset. This included checking for null values, duplicates, and visualizing distribution of data such as the label(cancerous vs non-cancerous). The data set appeared clean, with no duplciates, or null values so cleaning was minimal. Based on the initial EDA, the plan for analysis would be to load the data, normalize the data, and build a model to classify the image as either cancerous or non-cancerous. After that, AUC score will be used to assess model performance."
   ]
  },
  {
   "cell_type": "code",
   "execution_count": 5,
   "id": "9b8a6abe",
   "metadata": {
    "execution": {
     "iopub.execute_input": "2025-07-24T14:07:02.807368Z",
     "iopub.status.busy": "2025-07-24T14:07:02.806899Z",
     "iopub.status.idle": "2025-07-24T14:07:02.862112Z",
     "shell.execute_reply": "2025-07-24T14:07:02.861149Z"
    },
    "papermill": {
     "duration": 0.062544,
     "end_time": "2025-07-24T14:07:02.863630",
     "exception": false,
     "start_time": "2025-07-24T14:07:02.801086",
     "status": "completed"
    },
    "tags": []
   },
   "outputs": [
    {
     "name": "stdout",
     "output_type": "stream",
     "text": [
      "id       0\n",
      "label    0\n",
      "dtype: int64\n",
      "Duplicate IDs: 0\n"
     ]
    }
   ],
   "source": [
    "# check for null values in data set\n",
    "print(data.isnull().sum())\n",
    "\n",
    "# check for duplciate values\n",
    "print(f\"Duplicate IDs: {data['id'].duplicated().sum()}\")"
   ]
  },
  {
   "cell_type": "code",
   "execution_count": 6,
   "id": "159434d6",
   "metadata": {
    "execution": {
     "iopub.execute_input": "2025-07-24T14:07:02.873802Z",
     "iopub.status.busy": "2025-07-24T14:07:02.873496Z",
     "iopub.status.idle": "2025-07-24T14:07:03.136579Z",
     "shell.execute_reply": "2025-07-24T14:07:03.135480Z"
    },
    "papermill": {
     "duration": 0.27026,
     "end_time": "2025-07-24T14:07:03.138523",
     "exception": false,
     "start_time": "2025-07-24T14:07:02.868263",
     "status": "completed"
    },
    "tags": []
   },
   "outputs": [
    {
     "data": {
      "image/png": "[encoded data removed]",
      "text/plain": [
       "<Figure size 640x480 with 1 Axes>"
      ]
     },
     "metadata": {},
     "output_type": "display_data"
    }
   ],
   "source": [
    "#Visualize the distribution of the target variable\n",
    "sns.countplot(x='label', data=data, palette='Set2')\n",
    "plt.title('Cancer Label Distribution')\n",
    "plt.xlabel('Label (0 = Non-Cancerous, 1 = Cancerous)')\n",
    "plt.ylabel('Count')\n",
    "plt.xticks([0, 1], ['Non-Cancerous', 'Cancerous'])  # Optional for better labels\n",
    "plt.show()\n",
    "\n"
   ]
  },
  {
   "cell_type": "markdown",
   "id": "291c12fd",
   "metadata": {
    "papermill": {
     "duration": 0.004645,
     "end_time": "2025-07-24T14:07:03.149582",
     "exception": false,
     "start_time": "2025-07-24T14:07:03.144937",
     "status": "completed"
    },
    "tags": []
   },
   "source": [
    "### Model Architecture\n",
    "\n",
    "I began with a compact baseline CNN model consisting of two convolutional blocks followed by a dense layer. This architecture was chosen to establish a performance benchmark while minimizing overfitting risk and training time on moderate-sized data.\n",
    "\n",
    "Baseline Model Configuration:\n",
    "\n",
    "- Optimizer: Adam\n",
    "- Learning Rate: 0.0005\n",
    "- Dropout: None\n",
    "- Batch Size: 64\n",
    "- Epochs: 10\n",
    "- Output Activation: Sigmoid (for binary classification)\n",
    "- Loss Function: Binary Crossentropy\n",
    "- Evaluation Metric: AUC (Area Under the ROC Curve)\n",
    "Performance:\n",
    "AUC Score: 0.871 on the validation set\n",
    "\n",
    "This initial model performed reasonably well, indicating that even a relatively shallow network could capture key features in the data.\n",
    "\n",
    "To improve upon the baseline, I developed a second, deeper CNN architecture with more convolutional layers, additional filters, and regularization via dropout. This allowed the model to learn more complex spatial hierarchies while controlling overfitting.\n",
    "\n",
    "Changes in the Second Model:\n",
    "\n",
    "- Increased number of convolutional layers (from 2 to 4)\n",
    "- Increased filter sizes (e.g., 64 → 128)\n",
    "- Added a Dropout layer (0.5) after convolutional blocks\n",
    "- Increased dense layer size to 128 units\n",
    "- Kept optimizer, learning rate, and batch size the same for fair comparison\n",
    "  \n",
    "This model was tuned further using hyperparameter search (e.g., dropout rate, filter size, dense units), and performance was compared using AUC and ROC curves."
   ]
  },
  {
   "cell_type": "code",
   "execution_count": 7,
   "id": "b546e42c",
   "metadata": {
    "execution": {
     "iopub.execute_input": "2025-07-24T14:07:03.160464Z",
     "iopub.status.busy": "2025-07-24T14:07:03.160106Z",
     "iopub.status.idle": "2025-07-24T14:09:45.747305Z",
     "shell.execute_reply": "2025-07-24T14:09:45.746466Z"
    },
    "papermill": {
     "duration": 162.594951,
     "end_time": "2025-07-24T14:09:45.749228",
     "exception": false,
     "start_time": "2025-07-24T14:07:03.154277",
     "status": "completed"
    },
    "tags": []
   },
   "outputs": [],
   "source": [
    "# Sample smaller subset for faster iteration\n",
    "sample_df = data.sample(10000, random_state=42)\n",
    "\n",
    "# Load and preprocess images\n",
    "def load_images(df, img_set, img_size=(96, 96)):\n",
    "    images = []\n",
    "    labels = []\n",
    "    for _, row in df.iterrows():\n",
    "        img_path = os.path.join(img_set, row['id'] + '.tif')\n",
    "        img = cv2.imread(img_path)\n",
    "        img = cv2.resize(img, img_size)\n",
    "        img = img / 255.0  # Normalize\n",
    "        images.append(img)\n",
    "        labels.append(row['label'])\n",
    "    return np.array(images), np.array(labels)\n",
    "\n",
    "X, y = load_images(sample_df, img_set)\n"
   ]
  },
  {
   "cell_type": "code",
   "execution_count": 8,
   "id": "dbc4e9c6",
   "metadata": {
    "execution": {
     "iopub.execute_input": "2025-07-24T14:09:45.760696Z",
     "iopub.status.busy": "2025-07-24T14:09:45.760377Z",
     "iopub.status.idle": "2025-07-24T14:09:46.337457Z",
     "shell.execute_reply": "2025-07-24T14:09:46.336363Z"
    },
    "papermill": {
     "duration": 0.584659,
     "end_time": "2025-07-24T14:09:46.339175",
     "exception": false,
     "start_time": "2025-07-24T14:09:45.754516",
     "status": "completed"
    },
    "tags": []
   },
   "outputs": [],
   "source": [
    "X_train, X_val, y_train, y_val = train_test_split(X, y, test_size=0.2, stratify=y, random_state=42)"
   ]
  },
  {
   "cell_type": "code",
   "execution_count": 9,
   "id": "b6f7273e",
   "metadata": {
    "execution": {
     "iopub.execute_input": "2025-07-24T14:09:46.350555Z",
     "iopub.status.busy": "2025-07-24T14:09:46.350095Z",
     "iopub.status.idle": "2025-07-24T14:09:46.477616Z",
     "shell.execute_reply": "2025-07-24T14:09:46.476610Z"
    },
    "papermill": {
     "duration": 0.134842,
     "end_time": "2025-07-24T14:09:46.479196",
     "exception": false,
     "start_time": "2025-07-24T14:09:46.344354",
     "status": "completed"
    },
    "tags": []
   },
   "outputs": [
    {
     "name": "stderr",
     "output_type": "stream",
     "text": [
      "2025-07-24 14:09:46.365791: E external/local_xla/xla/stream_executor/cuda/cuda_driver.cc:152] failed call to cuInit: INTERNAL: CUDA error: Failed call to cuInit: UNKNOWN ERROR (303)\n"
     ]
    }
   ],
   "source": [
    "model = models.Sequential([\n",
    "    Input(shape=(96, 96, 3)),\n",
    "    layers.Conv2D(32, (3, 3), activation='relu'),\n",
    "    layers.Conv2D(32, (3, 3), activation='relu'),\n",
    "    layers.MaxPooling2D(2, 2),\n",
    "    \n",
    "    layers.Conv2D(64, (3, 3), activation='relu'),\n",
    "    layers.MaxPooling2D(2, 2),\n",
    "\n",
    "    layers.Flatten(),\n",
    "    layers.Dense(64, activation='relu'),\n",
    "    layers.Dense(1, activation='sigmoid')\n",
    "])\n",
    "\n",
    "early_stop = EarlyStopping(monitor='val_auc', patience=3, mode='max', restore_best_weights=True)\n"
   ]
  },
  {
   "cell_type": "code",
   "execution_count": 10,
   "id": "9e7d00c2",
   "metadata": {
    "execution": {
     "iopub.execute_input": "2025-07-24T14:09:46.490849Z",
     "iopub.status.busy": "2025-07-24T14:09:46.490544Z",
     "iopub.status.idle": "2025-07-24T14:26:43.991763Z",
     "shell.execute_reply": "2025-07-24T14:26:43.990047Z"
    },
    "papermill": {
     "duration": 1017.509498,
     "end_time": "2025-07-24T14:26:43.993906",
     "exception": false,
     "start_time": "2025-07-24T14:09:46.484408",
     "status": "completed"
    },
    "tags": []
   },
   "outputs": [
    {
     "name": "stdout",
     "output_type": "stream",
     "text": [
      "Epoch 1/10\n",
      "\u001b[1m125/125\u001b[0m \u001b[32m━━━━━━━━━━━━━━━━━━━━\u001b[0m\u001b[37m\u001b[0m \u001b[1m143s\u001b[0m 1s/step - accuracy: 0.6770 - auc: 0.7108 - loss: 0.5984 - val_accuracy: 0.7805 - val_auc: 0.8531 - val_loss: 0.4886\n",
      "Epoch 2/10\n",
      "\u001b[1m125/125\u001b[0m \u001b[32m━━━━━━━━━━━━━━━━━━━━\u001b[0m\u001b[37m\u001b[0m \u001b[1m122s\u001b[0m 974ms/step - accuracy: 0.7762 - auc: 0.8458 - loss: 0.4751 - val_accuracy: 0.7825 - val_auc: 0.8694 - val_loss: 0.4769\n",
      "Epoch 3/10\n",
      "\u001b[1m125/125\u001b[0m \u001b[32m━━━━━━━━━━━━━━━━━━━━\u001b[0m\u001b[37m\u001b[0m \u001b[1m123s\u001b[0m 981ms/step - accuracy: 0.7983 - auc: 0.8658 - loss: 0.4525 - val_accuracy: 0.7675 - val_auc: 0.8744 - val_loss: 0.4818\n",
      "Epoch 4/10\n",
      "\u001b[1m125/125\u001b[0m \u001b[32m━━━━━━━━━━━━━━━━━━━━\u001b[0m\u001b[37m\u001b[0m \u001b[1m122s\u001b[0m 975ms/step - accuracy: 0.7973 - auc: 0.8741 - loss: 0.4383 - val_accuracy: 0.7900 - val_auc: 0.8741 - val_loss: 0.4466\n",
      "Epoch 5/10\n",
      "\u001b[1m125/125\u001b[0m \u001b[32m━━━━━━━━━━━━━━━━━━━━\u001b[0m\u001b[37m\u001b[0m \u001b[1m121s\u001b[0m 970ms/step - accuracy: 0.8096 - auc: 0.8869 - loss: 0.4166 - val_accuracy: 0.8020 - val_auc: 0.8843 - val_loss: 0.4354\n",
      "Epoch 6/10\n",
      "\u001b[1m125/125\u001b[0m \u001b[32m━━━━━━━━━━━━━━━━━━━━\u001b[0m\u001b[37m\u001b[0m \u001b[1m136s\u001b[0m 1s/step - accuracy: 0.8442 - auc: 0.9189 - loss: 0.3590 - val_accuracy: 0.8050 - val_auc: 0.8800 - val_loss: 0.4299\n",
      "Epoch 7/10\n",
      "\u001b[1m125/125\u001b[0m \u001b[32m━━━━━━━━━━━━━━━━━━━━\u001b[0m\u001b[37m\u001b[0m \u001b[1m124s\u001b[0m 990ms/step - accuracy: 0.8610 - auc: 0.9326 - loss: 0.3276 - val_accuracy: 0.8015 - val_auc: 0.8769 - val_loss: 0.4417\n",
      "Epoch 8/10\n",
      "\u001b[1m125/125\u001b[0m \u001b[32m━━━━━━━━━━━━━━━━━━━━\u001b[0m\u001b[37m\u001b[0m \u001b[1m125s\u001b[0m 1s/step - accuracy: 0.8803 - auc: 0.9485 - loss: 0.2935 - val_accuracy: 0.8040 - val_auc: 0.8730 - val_loss: 0.4525\n"
     ]
    }
   ],
   "source": [
    "model.compile(optimizer=Adam(learning_rate=0.0005),\n",
    "              loss='binary_crossentropy',\n",
    "              metrics=['accuracy', AUC(name='auc')])\n",
    "\n",
    "history = model.fit(\n",
    "    X_train, y_train,\n",
    "    validation_data=(X_val, y_val),\n",
    "    epochs=10,\n",
    "    batch_size=64,\n",
    "    callbacks=[early_stop]\n",
    ")\n"
   ]
  },
  {
   "cell_type": "code",
   "execution_count": 11,
   "id": "0c2c14d3",
   "metadata": {
    "execution": {
     "iopub.execute_input": "2025-07-24T14:26:44.108812Z",
     "iopub.status.busy": "2025-07-24T14:26:44.108363Z",
     "iopub.status.idle": "2025-07-24T14:26:44.118642Z",
     "shell.execute_reply": "2025-07-24T14:26:44.117373Z"
    },
    "papermill": {
     "duration": 0.069875,
     "end_time": "2025-07-24T14:26:44.120514",
     "exception": false,
     "start_time": "2025-07-24T14:26:44.050639",
     "status": "completed"
    },
    "tags": []
   },
   "outputs": [],
   "source": [
    "def build_model(hp):\n",
    "    model = models.Sequential()\n",
    "    model.add(layers.Input(shape=(96, 96, 3)))\n",
    "    \n",
    "    model.add(layers.Conv2D(\n",
    "        filters=hp.Choice('conv_1_filters', [32, 64]),\n",
    "        kernel_size=hp.Choice('conv_1_kernel', [3, 5]),\n",
    "        activation='relu'\n",
    "    ))\n",
    "    \n",
    "    model.add(layers.Conv2D(\n",
    "        filters=hp.Choice('conv_2_filters', [64, 128]),\n",
    "        kernel_size=3,\n",
    "        activation='relu'\n",
    "    ))\n",
    "    \n",
    "    model.add(layers.MaxPooling2D(pool_size=2))\n",
    "    model.add(layers.Dropout(hp.Float('dropout_rate', 0.3, 0.5, step=0.1)))\n",
    "\n",
    "    model.add(layers.Flatten())\n",
    "    model.add(layers.Dense(\n",
    "        units=hp.Choice('dense_units', [64, 128, 256]),\n",
    "        activation='relu'\n",
    "    ))\n",
    "    model.add(layers.Dense(1, activation='sigmoid'))\n",
    "\n",
    "    model.compile(\n",
    "        optimizer=Adam(learning_rate=hp.Choice('learning_rate', [1e-4, 5e-4, 1e-3])),\n",
    "        loss='binary_crossentropy',\n",
    "        metrics=[AUC(name='auc')]\n",
    "    )\n",
    "    \n",
    "    return model\n",
    "\n",
    "\n"
   ]
  },
  {
   "cell_type": "code",
   "execution_count": 12,
   "id": "0a1d588f",
   "metadata": {
    "execution": {
     "iopub.execute_input": "2025-07-24T14:26:44.232563Z",
     "iopub.status.busy": "2025-07-24T14:26:44.231543Z",
     "iopub.status.idle": "2025-07-24T14:26:44.236435Z",
     "shell.execute_reply": "2025-07-24T14:26:44.235454Z"
    },
    "papermill": {
     "duration": 0.062588,
     "end_time": "2025-07-24T14:26:44.237936",
     "exception": false,
     "start_time": "2025-07-24T14:26:44.175348",
     "status": "completed"
    },
    "tags": []
   },
   "outputs": [],
   "source": [
    "#tuner = RandomSearch(\n",
    "#    build_model,\n",
    "#    objective='val_auc',\n",
    "#    max_trials=10,          \n",
    "#    executions_per_trial=1, \n",
    "#    directory='cancer_tune',\n",
    "#    project_name='cnn_tune'\n",
    "#)"
   ]
  },
  {
   "cell_type": "code",
   "execution_count": 13,
   "id": "ab07fc6f",
   "metadata": {
    "execution": {
     "iopub.execute_input": "2025-07-24T14:26:44.351987Z",
     "iopub.status.busy": "2025-07-24T14:26:44.351186Z",
     "iopub.status.idle": "2025-07-24T14:26:44.355693Z",
     "shell.execute_reply": "2025-07-24T14:26:44.354674Z"
    },
    "papermill": {
     "duration": 0.064645,
     "end_time": "2025-07-24T14:26:44.357220",
     "exception": false,
     "start_time": "2025-07-24T14:26:44.292575",
     "status": "completed"
    },
    "tags": []
   },
   "outputs": [],
   "source": [
    "#tuner.search(X_train, y_train,\n",
    "#             epochs=10,\n",
    "#            validation_data=(X_val, y_val),\n",
    "#             batch_size=64,\n",
    "#             callbacks=[early_stop])\n"
   ]
  },
  {
   "cell_type": "code",
   "execution_count": 14,
   "id": "d869d8b3",
   "metadata": {
    "execution": {
     "iopub.execute_input": "2025-07-24T14:26:44.471397Z",
     "iopub.status.busy": "2025-07-24T14:26:44.470990Z",
     "iopub.status.idle": "2025-07-24T14:26:44.475337Z",
     "shell.execute_reply": "2025-07-24T14:26:44.474395Z"
    },
    "papermill": {
     "duration": 0.063591,
     "end_time": "2025-07-24T14:26:44.476972",
     "exception": false,
     "start_time": "2025-07-24T14:26:44.413381",
     "status": "completed"
    },
    "tags": []
   },
   "outputs": [],
   "source": [
    "#best_model = tuner.get_best_models(num_models=1)[0]\n",
    "#best_hps = tuner.get_best_hyperparameters(num_trials=1)[0]\n",
    "\n",
    "#print(f\"Best hyperparameters: {best_hps.values}\")"
   ]
  },
  {
   "cell_type": "code",
   "execution_count": 15,
   "id": "a534b8e1",
   "metadata": {
    "execution": {
     "iopub.execute_input": "2025-07-24T14:26:44.590933Z",
     "iopub.status.busy": "2025-07-24T14:26:44.590257Z",
     "iopub.status.idle": "2025-07-24T14:26:44.597511Z",
     "shell.execute_reply": "2025-07-24T14:26:44.596513Z"
    },
    "papermill": {
     "duration": 0.065083,
     "end_time": "2025-07-24T14:26:44.599085",
     "exception": false,
     "start_time": "2025-07-24T14:26:44.534002",
     "status": "completed"
    },
    "tags": []
   },
   "outputs": [],
   "source": [
    "def build_final_model():\n",
    "    model = models.Sequential()\n",
    "    \n",
    "    # First convolutional block\n",
    "    model.add(layers.Conv2D(32, (3, 3), activation='relu', input_shape=(96, 96, 3)))\n",
    "    model.add(layers.MaxPooling2D(pool_size=(2, 2)))\n",
    "\n",
    "    # Second convolutional block\n",
    "    model.add(layers.Conv2D(128, (3, 3), activation='relu'))\n",
    "    model.add(layers.MaxPooling2D(pool_size=(2, 2)))\n",
    "\n",
    "    # Flatten + dense layers\n",
    "    model.add(layers.Flatten())\n",
    "    model.add(layers.Dropout(0.3))\n",
    "    model.add(layers.Dense(64, activation='relu'))\n",
    "\n",
    "    # Output layer for binary classification\n",
    "    model.add(layers.Dense(1, activation='sigmoid'))\n",
    "\n",
    "    # Compile model\n",
    "    model.compile(\n",
    "        optimizer=Adam(learning_rate=0.0001),\n",
    "        loss='binary_crossentropy',\n",
    "        metrics=[AUC(name='auc')]\n",
    "    )\n",
    "\n",
    "    return model"
   ]
  },
  {
   "cell_type": "markdown",
   "id": "fc6251fc",
   "metadata": {
    "papermill": {
     "duration": 0.056137,
     "end_time": "2025-07-24T14:26:44.712346",
     "exception": false,
     "start_time": "2025-07-24T14:26:44.656209",
     "status": "completed"
    },
    "tags": []
   },
   "source": [
    "### Results and Analysis\n",
    "\n",
    "Results of the two model architectures were compared using the ROC(based on AUC), since that is the metric for this competition. I also visualized the confusion matrix for the tuned model. \n",
    "\n",
    "The AUC value for the baseline model was 0.871. I also applied early stopping for the baseline model based on the AUC score. The AUC value for the model with the best parameters from hyperparameter tuning was 0.880. Hyperparameter tuning was done for convolutional filters, kernel sizes, dropout rates, dense layer sizes, and learning rates. The best model had the following parameters: {'conv_1_filters': 32, 'conv_1_kernel': 3, 'conv_2_filters': 128, 'dropout_rate': 0.3, 'dense_units': 64, 'learning_rate': 0.0001}. The hyperparameter tuning code was commented out as it takes some time to run and would slow down submission time. The hyperparameters identified were used to build a final model. In future iterations, I would try the best model with different optimizers as well."
   ]
  },
  {
   "cell_type": "code",
   "execution_count": 16,
   "id": "d7cdd558",
   "metadata": {
    "execution": {
     "iopub.execute_input": "2025-07-24T14:26:44.823570Z",
     "iopub.status.busy": "2025-07-24T14:26:44.823081Z",
     "iopub.status.idle": "2025-07-24T14:37:56.062626Z",
     "shell.execute_reply": "2025-07-24T14:37:56.061451Z"
    },
    "papermill": {
     "duration": 671.297493,
     "end_time": "2025-07-24T14:37:56.064589",
     "exception": false,
     "start_time": "2025-07-24T14:26:44.767096",
     "status": "completed"
    },
    "tags": []
   },
   "outputs": [
    {
     "name": "stderr",
     "output_type": "stream",
     "text": [
      "/usr/local/lib/python3.11/dist-packages/keras/src/layers/convolutional/base_conv.py:107: UserWarning: Do not pass an `input_shape`/`input_dim` argument to a layer. When using Sequential models, prefer using an `Input(shape)` object as the first layer in the model instead.\n",
      "  super().__init__(activity_regularizer=activity_regularizer, **kwargs)\n"
     ]
    },
    {
     "name": "stdout",
     "output_type": "stream",
     "text": [
      "Epoch 1/10\n",
      "\u001b[1m125/125\u001b[0m \u001b[32m━━━━━━━━━━━━━━━━━━━━\u001b[0m\u001b[37m\u001b[0m \u001b[1m93s\u001b[0m 721ms/step - auc: 0.6191 - loss: 0.6719 - val_auc: 0.8399 - val_loss: 0.5699\n",
      "Epoch 2/10\n",
      "\u001b[1m125/125\u001b[0m \u001b[32m━━━━━━━━━━━━━━━━━━━━\u001b[0m\u001b[37m\u001b[0m \u001b[1m90s\u001b[0m 720ms/step - auc: 0.8359 - loss: 0.5595 - val_auc: 0.8586 - val_loss: 0.5352\n",
      "Epoch 3/10\n",
      "\u001b[1m125/125\u001b[0m \u001b[32m━━━━━━━━━━━━━━━━━━━━\u001b[0m\u001b[37m\u001b[0m \u001b[1m100s\u001b[0m 801ms/step - auc: 0.8399 - loss: 0.5365 - val_auc: 0.8500 - val_loss: 0.5195\n",
      "Epoch 4/10\n",
      "\u001b[1m125/125\u001b[0m \u001b[32m━━━━━━━━━━━━━━━━━━━━\u001b[0m\u001b[37m\u001b[0m \u001b[1m104s\u001b[0m 825ms/step - auc: 0.8498 - loss: 0.5183 - val_auc: 0.8648 - val_loss: 0.5262\n",
      "Epoch 5/10\n",
      "\u001b[1m125/125\u001b[0m \u001b[32m━━━━━━━━━━━━━━━━━━━━\u001b[0m\u001b[37m\u001b[0m \u001b[1m94s\u001b[0m 751ms/step - auc: 0.8442 - loss: 0.5233 - val_auc: 0.8484 - val_loss: 0.5149\n",
      "Epoch 6/10\n",
      "\u001b[1m125/125\u001b[0m \u001b[32m━━━━━━━━━━━━━━━━━━━━\u001b[0m\u001b[37m\u001b[0m \u001b[1m92s\u001b[0m 739ms/step - auc: 0.8423 - loss: 0.5147 - val_auc: 0.8373 - val_loss: 0.5214\n",
      "Epoch 7/10\n",
      "\u001b[1m125/125\u001b[0m \u001b[32m━━━━━━━━━━━━━━━━━━━━\u001b[0m\u001b[37m\u001b[0m \u001b[1m95s\u001b[0m 760ms/step - auc: 0.8584 - loss: 0.5045 - val_auc: 0.8595 - val_loss: 0.5086\n"
     ]
    }
   ],
   "source": [
    "#build model with best parameters\n",
    "final_model = build_final_model()\n",
    "\n",
    "history = final_model.fit(\n",
    "    X_train, y_train,\n",
    "    validation_data=(X_val, y_val),\n",
    "    epochs=10,\n",
    "    batch_size=64,\n",
    "    callbacks=[early_stop]\n",
    ")\n",
    "\n",
    "final_model.save('best_cancer_model.h5')"
   ]
  },
  {
   "cell_type": "code",
   "execution_count": 17,
   "id": "fff4fcc9",
   "metadata": {
    "execution": {
     "iopub.execute_input": "2025-07-24T14:37:56.267662Z",
     "iopub.status.busy": "2025-07-24T14:37:56.267343Z",
     "iopub.status.idle": "2025-07-24T14:38:11.588208Z",
     "shell.execute_reply": "2025-07-24T14:38:11.587180Z"
    },
    "papermill": {
     "duration": 15.424277,
     "end_time": "2025-07-24T14:38:11.589760",
     "exception": false,
     "start_time": "2025-07-24T14:37:56.165483",
     "status": "completed"
    },
    "tags": []
   },
   "outputs": [
    {
     "name": "stdout",
     "output_type": "stream",
     "text": [
      "\u001b[1m63/63\u001b[0m \u001b[32m━━━━━━━━━━━━━━━━━━━━\u001b[0m\u001b[37m\u001b[0m \u001b[1m8s\u001b[0m 128ms/step\n",
      "\u001b[1m63/63\u001b[0m \u001b[32m━━━━━━━━━━━━━━━━━━━━\u001b[0m\u001b[37m\u001b[0m \u001b[1m6s\u001b[0m 88ms/step\n"
     ]
    },
    {
     "data": {
      "image/png": "[encoded data removed]",
      "text/plain": [
       "<Figure size 800x600 with 1 Axes>"
      ]
     },
     "metadata": {},
     "output_type": "display_data"
    }
   ],
   "source": [
    "# Predict probabilities with baseline model\n",
    "y_pred_baseline = model.predict(X_val).ravel()\n",
    "fpr_base, tpr_base, _ = roc_curve(y_val, y_pred_baseline)\n",
    "auc_base = auc(fpr_base, tpr_base)\n",
    "\n",
    "# Predict probabilities with tuned best model\n",
    "y_pred_tuned = final_model.predict(X_val).ravel()\n",
    "fpr_final, tpr_final, _ = roc_curve(y_val, y_pred_tuned)\n",
    "auc_final = auc(fpr_final, tpr_final)\n",
    "\n",
    "# Plot both ROC curves\n",
    "plt.figure(figsize=(8, 6))\n",
    "plt.plot(fpr_base, tpr_base, linestyle='--', label=f'Baseline Model (AUC = {auc_base:.3f})')\n",
    "plt.plot(fpr_final, tpr_final, linestyle='-', label=f'Tuned Model (AUC = {auc_final:.3f})')\n",
    "plt.plot([0, 1], [0, 1], 'k--', label='Random Classifier')\n",
    "plt.xlabel('False Positive Rate')\n",
    "plt.ylabel('True Positive Rate')\n",
    "plt.title('ROC Curve Comparison: Baseline vs Tuned Model')\n",
    "plt.legend(loc='lower right')\n",
    "plt.grid(True)\n",
    "plt.show()\n",
    "\n"
   ]
  },
  {
   "cell_type": "code",
   "execution_count": 18,
   "id": "de311ebe",
   "metadata": {
    "execution": {
     "iopub.execute_input": "2025-07-24T14:38:11.808921Z",
     "iopub.status.busy": "2025-07-24T14:38:11.808583Z",
     "iopub.status.idle": "2025-07-24T14:38:11.997838Z",
     "shell.execute_reply": "2025-07-24T14:38:11.996734Z"
    },
    "papermill": {
     "duration": 0.299282,
     "end_time": "2025-07-24T14:38:11.999439",
     "exception": false,
     "start_time": "2025-07-24T14:38:11.700157",
     "status": "completed"
    },
    "tags": []
   },
   "outputs": [
    {
     "data": {
      "image/png": "[encoded data removed]",
      "text/plain": [
       "<Figure size 600x400 with 2 Axes>"
      ]
     },
     "metadata": {},
     "output_type": "display_data"
    }
   ],
   "source": [
    "#confusion matrix for baseline model\n",
    "y_pred_labels = (y_pred_baseline > 0.5).astype(int)\n",
    "cm = confusion_matrix(y_val, y_pred_labels)\n",
    "\n",
    "plt.figure(figsize=(6, 4))\n",
    "sns.heatmap(cm, annot=True, fmt='d', cmap='Blues', xticklabels=['No Cancer', 'Cancer'], yticklabels=['No Cancer', 'Cancer'])\n",
    "plt.xlabel('Predicted')\n",
    "plt.ylabel('Actual')\n",
    "plt.title('Confusion Matrix - Baseline Model')\n",
    "plt.show()"
   ]
  },
  {
   "cell_type": "code",
   "execution_count": 19,
   "id": "ec803693",
   "metadata": {
    "execution": {
     "iopub.execute_input": "2025-07-24T14:38:12.251350Z",
     "iopub.status.busy": "2025-07-24T14:38:12.250992Z",
     "iopub.status.idle": "2025-07-24T14:38:12.428422Z",
     "shell.execute_reply": "2025-07-24T14:38:12.427337Z"
    },
    "papermill": {
     "duration": 0.286743,
     "end_time": "2025-07-24T14:38:12.430098",
     "exception": false,
     "start_time": "2025-07-24T14:38:12.143355",
     "status": "completed"
    },
    "tags": []
   },
   "outputs": [
    {
     "data": {
      "image/png": "[encoded data removed]",
      "text/plain": [
       "<Figure size 600x400 with 2 Axes>"
      ]
     },
     "metadata": {},
     "output_type": "display_data"
    }
   ],
   "source": [
    "#confusion matrix for tuned model\n",
    "y_pred_labels = (y_pred_tuned > 0.5).astype(int)\n",
    "cm = confusion_matrix(y_val, y_pred_labels)\n",
    "\n",
    "plt.figure(figsize=(6, 4))\n",
    "sns.heatmap(cm, annot=True, fmt='d', cmap='Oranges', xticklabels=['No Cancer', 'Cancer'], yticklabels=['No Cancer', 'Cancer'])\n",
    "plt.xlabel('Predicted')\n",
    "plt.ylabel('Actual')\n",
    "plt.title('Confusion Matrix - Final Tuned Model')\n",
    "plt.show()"
   ]
  },
  {
   "cell_type": "markdown",
   "id": "07d5dda9",
   "metadata": {
    "papermill": {
     "duration": 0.114056,
     "end_time": "2025-07-24T14:38:12.655033",
     "exception": false,
     "start_time": "2025-07-24T14:38:12.540977",
     "status": "completed"
    },
    "tags": []
   },
   "source": [
    "### Conclusion\n",
    "\n",
    "Based on the confusion matrices, the tuned model had an increase in true negatives (TN) but a decrease in true positives (TP), suggesting that it became more conservative in flagging positive cases. This trade-off may indicate a shift in the decision threshold or possible overfitting to negative examples. In future iterations, I would try balancing the data (e.g., using oversampling or class weights) to reduce bias toward the majority class and help the model better generalize.\n",
    "\n",
    "Additionally, I would explore tuning the classification threshold to optimize for metrics such as F1-score or recall, depending on whether false negatives or false positives are more critical in this medical context. Further improvements might also include experimenting with data augmentation, more advanced architectures like EfficientNet, or using ensembling methods to improve robustness.\n",
    "\n",
    "Finally, evaluating model performance using precision-recall curves in addition to ROC-AUC may provide deeper insight, especially when dealing with class imbalance."
   ]
  },
  {
   "cell_type": "code",
   "execution_count": 20,
   "id": "59c4181d",
   "metadata": {
    "execution": {
     "iopub.execute_input": "2025-07-24T14:38:12.873478Z",
     "iopub.status.busy": "2025-07-24T14:38:12.873128Z",
     "iopub.status.idle": "2025-07-24T14:52:39.017753Z",
     "shell.execute_reply": "2025-07-24T14:52:39.016800Z"
    },
    "papermill": {
     "duration": 866.256421,
     "end_time": "2025-07-24T14:52:39.019610",
     "exception": false,
     "start_time": "2025-07-24T14:38:12.763189",
     "status": "completed"
    },
    "tags": []
   },
   "outputs": [
    {
     "name": "stdout",
     "output_type": "stream",
     "text": [
      "Found 57458 validated image filenames.\n"
     ]
    },
    {
     "name": "stderr",
     "output_type": "stream",
     "text": [
      "/usr/local/lib/python3.11/dist-packages/keras/src/trainers/data_adapters/py_dataset_adapter.py:121: UserWarning: Your `PyDataset` class should call `super().__init__(**kwargs)` in its constructor. `**kwargs` can include `workers`, `use_multiprocessing`, `max_queue_size`. Do not pass these arguments to `fit()`, as they will be ignored.\n",
      "  self._warn_if_super_not_called()\n"
     ]
    },
    {
     "name": "stdout",
     "output_type": "stream",
     "text": [
      "\u001b[1m898/898\u001b[0m \u001b[32m━━━━━━━━━━━━━━━━━━━━\u001b[0m\u001b[37m\u001b[0m \u001b[1m624s\u001b[0m 695ms/step\n"
     ]
    }
   ],
   "source": [
    "# Load the model\n",
    "model = load_model('/kaggle/working/best_cancer_model.h5')\n",
    "\n",
    "# Load sample submission\n",
    "submission_df = pd.read_csv('/kaggle/input/histopathologic-cancer-detection/sample_submission.csv')\n",
    "\n",
    "# Add .tif to image ids for filename matching\n",
    "submission_df['id'] = submission_df['id'].apply(lambda x: x + '.tif')\n",
    "\n",
    "# Image generator for test set\n",
    "test_datagen = ImageDataGenerator(rescale=1./255)\n",
    "\n",
    "test_generator = test_datagen.flow_from_dataframe(\n",
    "    dataframe=submission_df,\n",
    "    directory='/kaggle/input/histopathologic-cancer-detection/test/',\n",
    "    x_col='id',\n",
    "    y_col=None,\n",
    "    target_size=(96, 96),\n",
    "    batch_size=64,\n",
    "    class_mode=None,\n",
    "    shuffle=False\n",
    ")\n",
    "\n",
    "# Predict\n",
    "predictions = model.predict(test_generator, verbose=1)\n",
    "\n",
    "# Assign predictions (flatten if needed)\n",
    "submission_df['label'] = predictions.ravel()\n",
    "\n",
    "# Remove .tif to match submission format\n",
    "submission_df['id'] = submission_df['id'].str.replace('.tif', '', regex=False)\n",
    "\n",
    "# Save submission\n",
    "submission_df.to_csv('submission.csv', index=False)\n",
    "\n"
   ]
  }
 ],
 "metadata": {
  "kaggle": {
   "accelerator": "none",
   "dataSources": [
    {
     "databundleVersionId": 862157,
     "sourceId": 11848,
     "sourceType": "competition"
    }
   ],
   "dockerImageVersionId": 31089,
   "isGpuEnabled": false,
   "isInternetEnabled": true,
   "language": "python",
   "sourceType": "notebook"
  },
  "kernelspec": {
   "display_name": "Python 3",
   "language": "python",
   "name": "python3"
  },
  "language_info": {
   "codemirror_mode": {
    "name": "ipython",
    "version": 3
   },
   "file_extension": ".py",
   "mimetype": "text/x-python",
   "name": "python",
   "nbconvert_exporter": "python",
   "pygments_lexer": "ipython3",
   "version": "3.11.13"
  },
  "papermill": {
   "default_parameters": {},
   "duration": 2768.381754,
   "end_time": "2025-07-24T14:52:43.381914",
   "environment_variables": {},
   "exception": null,
   "input_path": "__notebook__.ipynb",
   "output_path": "__notebook__.ipynb",
   "parameters": {},
   "start_time": "2025-07-24T14:06:35.000160",
   "version": "2.6.0"
  }
 },
 "nbformat": 4,
 "nbformat_minor": 5
}
